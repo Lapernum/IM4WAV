{
 "cells": [
  {
   "cell_type": "code",
   "execution_count": 1,
   "metadata": {},
   "outputs": [],
   "source": [
    "import sys\n",
    "import os.path\n",
    "import skvideo.io\n",
    "import cv2\n",
    "import matplotlib.pyplot as plt\n",
    "import numpy as np\n",
    "import pafy\n",
    "import soundfile as sf\n",
    "import subprocess as sp\n",
    "from IPython.display import Video\n",
    "import yt_dlp\n",
    "from yt_dlp.utils import download_range_func"
   ]
  },
  {
   "cell_type": "code",
   "execution_count": 2,
   "metadata": {},
   "outputs": [],
   "source": [
    "# Load the AudioSet training set\n",
    "with open('../vggsound.csv') as f:\n",
    "    lines = f.readlines()\n",
    "\n",
    "dl_list = [line.strip().split(',') for line in lines]"
   ]
  },
  {
   "cell_type": "code",
   "execution_count": null,
   "metadata": {},
   "outputs": [],
   "source": [
    "for i, dl in enumerate(dl_list[3500:]):\n",
    "    print(\"downloading video \" + str(i))\n",
    "    ytid, ts_start, split = dl[0], dl[1], dl[-1]\n",
    "    label = \",\".join(dl[2:-1])\n",
    "    print(split)\n",
    "    print(label)"
   ]
  },
  {
   "cell_type": "code",
   "execution_count": null,
   "metadata": {},
   "outputs": [],
   "source": [
    "for i, dl in enumerate(dl_list[5500:]):\n",
    "    print(\"downloading video \" + str(i))\n",
    "    ytid, ts_start, split = dl[0], dl[1], dl[-1]\n",
    "    label = \",\".join(dl[2:-1])\n",
    "    ts_start, ts_end = float(ts_start), float(ts_start) + 10\n",
    "    duration = 10\n",
    "    video_page_url = 'https://www.youtube.com/watch?v={}'.format(ytid)\n",
    "    yt_opts = {\n",
    "        'verbose': True,\n",
    "        'format': 'bv+ba',\n",
    "        'download_ranges': download_range_func(None, [(ts_start, ts_end)]),\n",
    "        'force_keyframes_at_cuts': True,\n",
    "        'paths': {\"home\": \"S:/CS7643Project/audiosetdl/video_output\"},\n",
    "        'outtmpl': label + '.' + split + '.%(title)s.%(ext)s'\n",
    "    }\n",
    "\n",
    "    try:\n",
    "        with yt_dlp.YoutubeDL(yt_opts) as ydl:\n",
    "            ydl.download(video_page_url);\n",
    "    except:\n",
    "        pass"
   ]
  },
  {
   "cell_type": "code",
   "execution_count": null,
   "metadata": {},
   "outputs": [],
   "source": []
  }
 ],
 "metadata": {
  "kernelspec": {
   "display_name": "Python 3",
   "language": "python",
   "name": "python3"
  },
  "language_info": {
   "codemirror_mode": {
    "name": "ipython",
    "version": 3
   },
   "file_extension": ".py",
   "mimetype": "text/x-python",
   "name": "python",
   "nbconvert_exporter": "python",
   "pygments_lexer": "ipython3",
   "version": "3.8.10"
  }
 },
 "nbformat": 4,
 "nbformat_minor": 2
}
