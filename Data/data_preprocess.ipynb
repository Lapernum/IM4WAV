{
 "cells": [
  {
   "cell_type": "code",
   "execution_count": null,
   "metadata": {},
   "outputs": [],
   "source": [
    "origin_path = \"S:/CS7643Project/audiosetdl/dataset/audio/\"\n",
    "dest_path = \"S:/CS7643Project/audiosetdl/dataset/audio_class/\""
   ]
  },
  {
   "cell_type": "code",
   "execution_count": null,
   "metadata": {},
   "outputs": [],
   "source": [
    "import os\n",
    "import shutil\n",
    "import numpy as np\n",
    "from tqdm import tqdm"
   ]
  },
  {
   "cell_type": "code",
   "execution_count": null,
   "metadata": {},
   "outputs": [],
   "source": [
    "dir_list = os.listdir(origin_path)"
   ]
  },
  {
   "cell_type": "code",
   "execution_count": null,
   "metadata": {},
   "outputs": [],
   "source": [
    "class_ind = {}\n",
    "for filename in tqdm(dir_list):\n",
    "    filename_hash = filename.split(\"#\")\n",
    "    print(filename_hash)\n",
    "\n",
    "    if len(filename_hash) > 1:\n",
    "        if len(filename_hash[1].split(\".\")) > 1:\n",
    "            continue\n",
    "        if len(filename_hash[0].split(\".\")) > 2:\n",
    "            filename_dot = filename_hash[0].split(\".\")\n",
    "            classname = filename_dot[1]\n",
    "            istrain = filename_dot[2]\n",
    "        else:\n",
    "            classname = filename_hash[1]\n",
    "            filename_dot = filename_hash[2].split(\".\")\n",
    "            istrain = filename_dot[1]\n",
    "    else:\n",
    "        filename_dot = filename_hash[0].split(\".\")\n",
    "        classname = filename_dot[1]\n",
    "        istrain = filename_dot[2]\n",
    "\n",
    "    # if len(filename_hash) == 3:\n",
    "    #     classname = filename_hash[1]\n",
    "    #     filename_dot = filename_hash[2].split(\".\")\n",
    "    #     istrain = filename_dot[1]\n",
    "    # else:\n",
    "    #     filename_dot = filename_hash[0].split(\".\")\n",
    "    #     classname = filename_dot[1]\n",
    "    #     istrain = filename_dot[2]\n",
    "    \n",
    "    if istrain != \"train\" and istrain != \"test\":\n",
    "        continue\n",
    "\n",
    "    if classname in class_ind:\n",
    "        class_ind[classname] += 1\n",
    "        curr_ind = class_ind[classname]\n",
    "    else:\n",
    "        class_ind[classname] = 0\n",
    "        curr_ind = 0\n",
    "\n",
    "    # shutil.copyfile(origin_path + filename, dest_path + istrain + \"/\" + classname + str(curr_ind) + \".wav\")"
   ]
  },
  {
   "cell_type": "code",
   "execution_count": null,
   "metadata": {},
   "outputs": [],
   "source": [
    "origin_path = \"S:/CS7643Project/audiosetdl/dataset/image/\"\n",
    "dest_path = \"S:/CS7643Project/audiosetdl/dataset/image_class/\""
   ]
  },
  {
   "cell_type": "code",
   "execution_count": null,
   "metadata": {},
   "outputs": [],
   "source": [
    "dir_list = os.listdir(origin_path)"
   ]
  },
  {
   "cell_type": "code",
   "execution_count": null,
   "metadata": {},
   "outputs": [],
   "source": [
    "class_ind = {}\n",
    "for filename in tqdm(dir_list):\n",
    "    filename_hash = filename.split(\"#\")\n",
    "    # print(filename_hash)\n",
    "\n",
    "    if len(filename_hash) > 1:\n",
    "        if len(filename_hash[1].split(\".\")) > 1:\n",
    "            continue\n",
    "        if len(filename_hash[0].split(\".\")) > 2:\n",
    "            filename_dot = filename_hash[0].split(\".\")\n",
    "            classname = filename_dot[1]\n",
    "            istrain = filename_dot[2]\n",
    "        else:\n",
    "            classname = filename_hash[1]\n",
    "            filename_dot = filename_hash[2].split(\".\")\n",
    "            istrain = filename_dot[1]\n",
    "    else:\n",
    "        filename_dot = filename_hash[0].split(\".\")\n",
    "        classname = filename_dot[1]\n",
    "        istrain = filename_dot[2]\n",
    "    \n",
    "    if istrain != \"train\" and istrain != \"test\":\n",
    "        continue\n",
    "\n",
    "    if classname in class_ind:\n",
    "        class_ind[classname] += 1\n",
    "        curr_ind = class_ind[classname]\n",
    "    else:\n",
    "        class_ind[classname] = 0\n",
    "        curr_ind = 0\n",
    "\n",
    "    shutil.copyfile(origin_path + filename, dest_path + istrain + \"/\" + classname + \"-\" + str(curr_ind) + \".jpg\")"
   ]
  },
  {
   "cell_type": "code",
   "execution_count": null,
   "metadata": {},
   "outputs": [],
   "source": [
    "origin_path = \"S:/CS7643Project/audiosetdl/video_output/\"\n",
    "dest_path = \"S:/CS7643Project/audiosetdl/dataset/video_mp4/\""
   ]
  },
  {
   "cell_type": "code",
   "execution_count": null,
   "metadata": {},
   "outputs": [],
   "source": [
    "def get_sorted_filenames(path):\n",
    "    dir_list = os.listdir(path)\n",
    "    return sorted(dir_list)"
   ]
  },
  {
   "cell_type": "code",
   "execution_count": null,
   "metadata": {},
   "outputs": [],
   "source": [
    "import os\n",
    "import moviepy.editor as moviepy\n",
    "import subprocess\n",
    "from pathlib import Path\n",
    "from IPython.display import clear_output"
   ]
  },
  {
   "cell_type": "code",
   "execution_count": null,
   "metadata": {},
   "outputs": [],
   "source": [
    "def convert_to_mp4(mkv_file, filename):\n",
    "    filename2 = Path(filename).stem\n",
    "    out_name = dest_path + filename2 + \".mp4\"\n",
    "    try:\n",
    "        clip = moviepy.VideoFileClip(mkv_file)\n",
    "        clip.write_videofile(out_name)\n",
    "    except:\n",
    "        pass\n",
    "    clear_output(wait=True)\n",
    "\n",
    "dir_list = get_sorted_filenames(origin_path)\n",
    "for file in tqdm(dir_list):\n",
    "    if os.path.isfile(dest_path + Path(file).stem + \".mp4\"):\n",
    "        continue\n",
    "    if file.endswith('.mp4'):\n",
    "        shutil.copyfile(origin_path + file, dest_path + file)\n",
    "    else:\n",
    "        convert_to_mp4(origin_path + file, file)"
   ]
  },
  {
   "cell_type": "code",
   "execution_count": null,
   "metadata": {},
   "outputs": [],
   "source": [
    "convert_to_mp4(origin_path + \"owl hooting.train.Appeau Chouette hulotte.mkv\", dest_path + \"owl hooting.train.Appeau Chouette hulotte2.mp4\")"
   ]
  },
  {
   "cell_type": "code",
   "execution_count": null,
   "metadata": {},
   "outputs": [],
   "source": [
    "videooutput_path = \"S:/CS7643Project/audiosetdl/video_output/\"\n",
    "origin_path = \"S:/CS7643Project/audiosetdl/dataset/video_mp4/\"\n",
    "dest_path = \"S:/CS7643Project/audiosetdl/dataset/video_class/\"\n",
    "audio_path = \"S:/CS7643Project/audiosetdl/dataset/audio/\""
   ]
  },
  {
   "cell_type": "code",
   "execution_count": null,
   "metadata": {},
   "outputs": [],
   "source": [
    "dir_list = get_sorted_filenames(origin_path)\n",
    "audio_list = get_sorted_filenames(audio_path)\n",
    "video_output_list = get_sorted_filenames(videooutput_path)"
   ]
  },
  {
   "cell_type": "code",
   "execution_count": null,
   "metadata": {},
   "outputs": [],
   "source": [
    "audio_list[1000]"
   ]
  },
  {
   "cell_type": "code",
   "execution_count": null,
   "metadata": {},
   "outputs": [],
   "source": [
    "for ind, aud in enumerate(audio_list):\n",
    "    audio_list[ind] = \".\".join(aud.split(\".\")[1:-1])"
   ]
  },
  {
   "cell_type": "code",
   "execution_count": null,
   "metadata": {},
   "outputs": [],
   "source": [
    "len(audio_list)"
   ]
  },
  {
   "cell_type": "code",
   "execution_count": null,
   "metadata": {},
   "outputs": [],
   "source": [
    "audio_list[0]"
   ]
  },
  {
   "cell_type": "code",
   "execution_count": null,
   "metadata": {},
   "outputs": [],
   "source": [
    "for vid in dir_list:\n",
    "    vid_name = Path(vid).stem\n",
    "    if vid_name not in audio_list:\n",
    "        print(vid)"
   ]
  },
  {
   "cell_type": "code",
   "execution_count": null,
   "metadata": {},
   "outputs": [],
   "source": [
    "for aud in audio_list:\n",
    "    if aud + \".mp4\" not in dir_list:\n",
    "        print(aud)"
   ]
  },
  {
   "cell_type": "code",
   "execution_count": null,
   "metadata": {},
   "outputs": [],
   "source": [
    "new_dir_list = []\n",
    "for vid in dir_list:\n",
    "    new_dir_list.append(Path(vid).stem)"
   ]
  },
  {
   "cell_type": "code",
   "execution_count": null,
   "metadata": {},
   "outputs": [],
   "source": [
    "new_dir_list.sort()"
   ]
  },
  {
   "cell_type": "code",
   "execution_count": null,
   "metadata": {},
   "outputs": [],
   "source": [
    "dir_list = []\n",
    "for ind, vid in enumerate(new_dir_list):\n",
    "    dir_list.append(vid + \".mp4\")"
   ]
  },
  {
   "cell_type": "code",
   "execution_count": null,
   "metadata": {},
   "outputs": [],
   "source": [
    "new_video_output_list = []\n",
    "for vid in video_output_list:\n",
    "    new_video_output_list.append(Path(vid).stem)"
   ]
  },
  {
   "cell_type": "code",
   "execution_count": null,
   "metadata": {},
   "outputs": [],
   "source": [
    "dir_list = []\n",
    "for vid in new_video_output_list:\n",
    "    if vid in new_dir_list:\n",
    "        dir_list.append(vid + \".mp4\")"
   ]
  },
  {
   "cell_type": "code",
   "execution_count": null,
   "metadata": {},
   "outputs": [],
   "source": [
    "len(dir_list)"
   ]
  },
  {
   "cell_type": "code",
   "execution_count": null,
   "metadata": {},
   "outputs": [],
   "source": [
    "# for video\n",
    "\n",
    "class_ind = {}\n",
    "for filename in tqdm(dir_list):\n",
    "    filename_hash = filename.split(\"#\")\n",
    "    # print(filename_hash)\n",
    "\n",
    "    if len(filename_hash) > 1:\n",
    "        if len(filename_hash[1].split(\".\")) > 1:\n",
    "            continue\n",
    "        if len(filename_hash[0].split(\".\")) > 2:\n",
    "            filename_dot = filename_hash[0].split(\".\")\n",
    "            classname = filename_dot[0]\n",
    "            istrain = filename_dot[1]\n",
    "        else:\n",
    "            classname = filename_hash[1]\n",
    "            filename_dot = filename_hash[2].split(\".\")\n",
    "            istrain = filename_dot[1]\n",
    "    else:\n",
    "        filename_dot = filename_hash[0].split(\".\")\n",
    "        classname = filename_dot[0]\n",
    "        istrain = filename_dot[1]\n",
    "    \n",
    "    if istrain != \"train\" and istrain != \"test\":\n",
    "        continue\n",
    "\n",
    "    if classname in class_ind:\n",
    "        class_ind[classname] += 1\n",
    "        curr_ind = class_ind[classname]\n",
    "    else:\n",
    "        class_ind[classname] = 0\n",
    "        curr_ind = 0\n",
    "\n",
    "    shutil.copyfile(origin_path + filename, dest_path + istrain + \"/\" + classname + str(curr_ind) + \".mp4\")"
   ]
  },
  {
   "cell_type": "code",
   "execution_count": null,
   "metadata": {},
   "outputs": [],
   "source": [
    "import os\n",
    "import ffmpeg\n",
    "\n",
    "def convert_to_mp4(mkv_file):\n",
    "    name, ext = os.path.splitext(mkv_file)\n",
    "    out_name = name + \".mp4\"\n",
    "    ffmpeg.input(mkv_file).output(out_name).run()\n",
    "    print(\"Finished converting {}\".format(mkv_file))"
   ]
  },
  {
   "cell_type": "code",
   "execution_count": null,
   "metadata": {},
   "outputs": [],
   "source": [
    "origin_path = \"S:/CS7643Project/audiosetdl/dataset/video_class/train/\"\n",
    "dest_path = \"S:/CS7643Project/audiosetdl/dataset/video_class/train_small/\""
   ]
  },
  {
   "cell_type": "code",
   "execution_count": null,
   "metadata": {},
   "outputs": [],
   "source": [
    "dir_list = os.listdir(origin_path)"
   ]
  },
  {
   "cell_type": "code",
   "execution_count": null,
   "metadata": {},
   "outputs": [],
   "source": [
    "class_keys = list(class_ind.keys())"
   ]
  },
  {
   "cell_type": "code",
   "execution_count": null,
   "metadata": {},
   "outputs": [],
   "source": [
    "class_ind_2 = {}\n",
    "for filename in tqdm(dir_list):\n",
    "    if filename.endswith(\".mp4\"):\n",
    "        for class_key in class_keys:\n",
    "            if class_key in filename:\n",
    "                if class_key not in class_ind_2:\n",
    "                    class_ind_2[class_key] = 1\n",
    "                    shutil.copyfile(origin_path + filename, dest_path + filename)\n",
    "                else:\n",
    "                    if class_ind_2[class_key] == 2:\n",
    "                        break\n",
    "                    else:\n",
    "                        class_ind_2[class_key] += 1\n",
    "                        shutil.copyfile(origin_path + filename, dest_path + filename)\n",
    "                break"
   ]
  },
  {
   "cell_type": "code",
   "execution_count": null,
   "metadata": {},
   "outputs": [],
   "source": [
    "origin_path = \"S:/CS7643Project/audiosetdl/dataset/audio_class/train/\"\n",
    "dest_path = \"S:/CS7643Project/audiosetdl/dataset/audio_class/train_small/\""
   ]
  },
  {
   "cell_type": "code",
   "execution_count": null,
   "metadata": {},
   "outputs": [],
   "source": [
    "dir_list = os.listdir(origin_path)"
   ]
  },
  {
   "cell_type": "code",
   "execution_count": null,
   "metadata": {},
   "outputs": [],
   "source": [
    "class_ind_2 = {}\n",
    "for filename in tqdm(dir_list):\n",
    "    if filename.endswith(\".wav\"):\n",
    "        for class_key in class_keys:\n",
    "            if class_key in filename:\n",
    "                if class_key not in class_ind_2:\n",
    "                    class_ind_2[class_key] = 1\n",
    "                    shutil.copyfile(origin_path + filename, dest_path + filename)\n",
    "                else:\n",
    "                    if class_ind_2[class_key] == 2:\n",
    "                        break\n",
    "                    else:\n",
    "                        class_ind_2[class_key] += 1\n",
    "                        shutil.copyfile(origin_path + filename, dest_path + filename)\n",
    "                break"
   ]
  },
  {
   "cell_type": "code",
   "execution_count": null,
   "metadata": {},
   "outputs": [],
   "source": [
    "first_path = \"S:/CS7643Project/audiosetdl/dataset/video_class/train_small/\"\n",
    "second_path = \"S:/CS7643Project/audiosetdl/dataset/audio_class/train_small/\""
   ]
  },
  {
   "cell_type": "code",
   "execution_count": null,
   "metadata": {},
   "outputs": [],
   "source": [
    "first_dir_list = os.listdir(first_path)\n",
    "second_dir_list = os.listdir(second_path)"
   ]
  },
  {
   "cell_type": "code",
   "execution_count": null,
   "metadata": {},
   "outputs": [],
   "source": [
    "for ind, first in enumerate(first_dir_list):\n",
    "    if Path(first).stem != Path(second_dir_list[ind]).stem:\n",
    "        print(Path(first).stem)"
   ]
  },
  {
   "cell_type": "code",
   "execution_count": null,
   "metadata": {},
   "outputs": [],
   "source": [
    "import os\n",
    "from scipy.io import wavfile\n",
    "\n",
    "def filter_nan_wav_files(directory):\n",
    "\n",
    "    nan_files = []\n",
    "    for filename in os.listdir(directory):\n",
    "        if filename.endswith(\".wav\"):\n",
    "            filepath = os.path.join(directory, filename)\n",
    "            _, data = wavfile.read(filepath)\n",
    "            if data.dtype == float and any(map(lambda x: x != x, data.flatten())):  # Check for NaN in float arrays\n",
    "                nan_files.append(filepath)\n",
    "\n",
    "    return nan_files"
   ]
  },
  {
   "cell_type": "code",
   "execution_count": null,
   "metadata": {},
   "outputs": [],
   "source": [
    "import librosa\n",
    "\n",
    "audio_data = []\n",
    "for sec in tqdm(second_dir_list):\n",
    "    if sec.endswith(\".wav\"):\n",
    "        try:\n",
    "            data, sr = librosa.load(second_path + sec, sr=None, duration=10)\n",
    "        except Exception as e:\n",
    "            print(e)\n",
    "            print(sec)\n",
    "            continue\n",
    "        audio_data.append(data)"
   ]
  },
  {
   "cell_type": "code",
   "execution_count": null,
   "metadata": {},
   "outputs": [],
   "source": [
    "for ind, data in enumerate(audio_data):\n",
    "    if np.isnan(np.min(data)):\n",
    "        print(ind)"
   ]
  },
  {
   "cell_type": "code",
   "execution_count": null,
   "metadata": {},
   "outputs": [],
   "source": [
    "def load_audio(file, sr, offset, duration, mono=False):\n",
    "    # Librosa loads more filetypes than soundfile\n",
    "    x, _ = librosa.load(file, sr=sr, mono=mono, offset=offset/sr, duration=duration/sr)\n",
    "    if len(x.shape) == 1:\n",
    "        x = x.reshape((1, -1))\n",
    "    return x  "
   ]
  },
  {
   "cell_type": "code",
   "execution_count": null,
   "metadata": {},
   "outputs": [],
   "source": [
    "filter_nan_wav_files(second_path)"
   ]
  },
  {
   "cell_type": "code",
   "execution_count": null,
   "metadata": {},
   "outputs": [],
   "source": [
    "large_class_keys = []\n",
    "for key in class_ind:\n",
    "    if class_ind[key] >= 40:\n",
    "        large_class_keys.append(key)"
   ]
  },
  {
   "cell_type": "code",
   "execution_count": null,
   "metadata": {},
   "outputs": [],
   "source": [
    "len(large_class_keys)"
   ]
  },
  {
   "cell_type": "code",
   "execution_count": null,
   "metadata": {},
   "outputs": [],
   "source": [
    "large_class_keys"
   ]
  },
  {
   "cell_type": "code",
   "execution_count": null,
   "metadata": {},
   "outputs": [],
   "source": [
    "first_path = \"D:/CS7643/project/ImageToAudio/models/video_CLIP_large/\"\n",
    "second_path = \"S:/CS7643Project/audiosetdl/dataset/audio_class/train/\"\n",
    "third_path = \"S:/CS7643Project/audiosetdl/dataset/video_class/train/\"\n",
    "first_dest_path = \"D:/CS7643/project/ImageToAudio/models/video_CLIP/\"\n",
    "second_dest_path = \"S:/CS7643Project/audiosetdl/dataset/audio_class/train_ms/\"\n",
    "third_dest_path = \"S:/CS7643Project/audiosetdl/dataset/video_class/train_ms/\""
   ]
  },
  {
   "cell_type": "code",
   "execution_count": null,
   "metadata": {},
   "outputs": [],
   "source": [
    "first_dir_list = os.listdir(first_path)\n",
    "second_dir_list = os.listdir(second_path)\n",
    "third_dir_list = os.listdir(third_path)"
   ]
  },
  {
   "cell_type": "code",
   "execution_count": null,
   "metadata": {},
   "outputs": [],
   "source": [
    "class_count = {}\n",
    "for file in first_dir_list:\n",
    "    for key in large_class_keys:\n",
    "        if key in class_count and class_count[key] >= 20:\n",
    "            continue\n",
    "        if key in file:\n",
    "            shutil.copyfile(first_path + file, first_dest_path + file)\n",
    "            if key not in class_count:\n",
    "                class_count[key] = 1\n",
    "            else:\n",
    "                class_count[key] += 1\n",
    "            break"
   ]
  },
  {
   "cell_type": "code",
   "execution_count": null,
   "metadata": {},
   "outputs": [],
   "source": [
    "class_count = {}\n",
    "for file in second_dir_list:\n",
    "    for key in large_class_keys:\n",
    "        if key in class_count and class_count[key] >= 20:\n",
    "            continue\n",
    "        if key in file:\n",
    "            shutil.copyfile(second_path + file, second_dest_path + file)\n",
    "            if key not in class_count:\n",
    "                class_count[key] = 1\n",
    "            else:\n",
    "                class_count[key] += 1\n",
    "            break"
   ]
  },
  {
   "cell_type": "code",
   "execution_count": null,
   "metadata": {},
   "outputs": [],
   "source": [
    "class_count = {}\n",
    "for file in third_dir_list:\n",
    "    for key in large_class_keys:\n",
    "        if key in class_count and class_count[key] >= 20:\n",
    "            continue\n",
    "        if key in file:\n",
    "            clip = moviepy.VideoFileClip(third_path + file)\n",
    "            if clip.fps < 25:\n",
    "                continue\n",
    "            clip.write_videofile(third_dest_path + file, fps=25)\n",
    "            # shutil.copyfile(second_path + file, second_dest_path + file)\n",
    "            if key not in class_count:\n",
    "                class_count[key] = 1\n",
    "            else:\n",
    "                class_count[key] += 1\n",
    "            break"
   ]
  },
  {
   "cell_type": "code",
   "execution_count": null,
   "metadata": {},
   "outputs": [],
   "source": [
    "second_dir_list = os.listdir(second_dest_path)\n",
    "third_dir_list = os.listdir(third_dest_path)"
   ]
  },
  {
   "cell_type": "code",
   "execution_count": null,
   "metadata": {},
   "outputs": [],
   "source": [
    "for third in third_dir_list:\n",
    "    shutil.copy(second_path + Path(third).stem + \".wav\", second_dest_path + Path(third).stem + \".wav\")"
   ]
  },
  {
   "cell_type": "code",
   "execution_count": null,
   "metadata": {},
   "outputs": [],
   "source": [
    "for ind, second in enumerate(second_dir_list):\n",
    "    if Path(second).stem != Path(third_dir_list[ind]).stem:\n",
    "        print(Path(second).stem)"
   ]
  },
  {
   "cell_type": "code",
   "execution_count": null,
   "metadata": {},
   "outputs": [],
   "source": [
    "first_path = \"D:/CS7643/project/ImageToAudio/test_data/ground_truth/\"\n",
    "second_path = \"D:/CS7643/project/ImageToAudio/test_data/im2wav/\"\n",
    "third_path = \"D:/CS7643/project/ImageToAudio/test_data/im4wav/\"\n",
    "first_dest_path = \"D:/CS7643/project/ImageToAudio/test_data/ground_truth_split/\"\n",
    "second_dest_path = \"D:/CS7643/project/ImageToAudio/test_data/im2wav_split/\"\n",
    "third_dest_path = \"D:/CS7643/project/ImageToAudio/test_data/im4wav_split/\""
   ]
  },
  {
   "cell_type": "code",
   "execution_count": null,
   "metadata": {},
   "outputs": [],
   "source": [
    "first_dir_list = os.listdir(first_path)\n",
    "second_dir_list = os.listdir(second_path)\n",
    "third_dir_list = os.listdir(third_path)"
   ]
  },
  {
   "cell_type": "code",
   "execution_count": null,
   "metadata": {},
   "outputs": [],
   "source": [
    "from pydub import AudioSegment \n",
    "\n",
    "for first in first_dir_list:\n",
    "    stereo_audio = AudioSegment.from_file( \n",
    "        first_path + first, \n",
    "        format=\"wav\") \n",
    "    \n",
    "    mono_audios = stereo_audio.split_to_mono() \n",
    "\n",
    "    mono_left = mono_audios[0].export( \n",
    "        first_dest_path + Path(first).stem + \"-l.wav\", \n",
    "        format=\"wav\") \n",
    "    mono_right = mono_audios[1].export( \n",
    "        first_dest_path + Path(first).stem + \"-r.wav\", \n",
    "        format=\"wav\") "
   ]
  },
  {
   "cell_type": "code",
   "execution_count": null,
   "metadata": {},
   "outputs": [],
   "source": [
    "for second in second_dir_list:\n",
    "    stereo_audio = AudioSegment.from_file( \n",
    "        second_path + second, \n",
    "        format=\"wav\") \n",
    "    \n",
    "    mono_audios = stereo_audio.split_to_mono() \n",
    "\n",
    "    mono_left = mono_audios[0].export( \n",
    "        second_dest_path + Path(second).stem + \"-l.wav\", \n",
    "        format=\"wav\") \n",
    "    mono_right = mono_audios[0].export( \n",
    "        second_dest_path + Path(second).stem + \"-r.wav\", \n",
    "        format=\"wav\") "
   ]
  },
  {
   "cell_type": "code",
   "execution_count": null,
   "metadata": {},
   "outputs": [],
   "source": [
    "for third in third_dir_list:\n",
    "    stereo_audio = AudioSegment.from_file( \n",
    "        third_path + third, \n",
    "        format=\"wav\") \n",
    "    \n",
    "    mono_audios = stereo_audio.split_to_mono() \n",
    "\n",
    "    mono_left = mono_audios[0].export( \n",
    "        third_dest_path + Path(third).stem + \"-l.wav\", \n",
    "        format=\"wav\") \n",
    "    mono_right = mono_audios[1].export( \n",
    "        third_dest_path + Path(third).stem + \"-r.wav\", \n",
    "        format=\"wav\") "
   ]
  }
 ],
 "metadata": {
  "kernelspec": {
   "display_name": "imagetoaudio4",
   "language": "python",
   "name": "python3"
  },
  "language_info": {
   "codemirror_mode": {
    "name": "ipython",
    "version": 3
   },
   "file_extension": ".py",
   "mimetype": "text/x-python",
   "name": "python",
   "nbconvert_exporter": "python",
   "pygments_lexer": "ipython3",
   "version": "3.8.18"
  }
 },
 "nbformat": 4,
 "nbformat_minor": 2
}
