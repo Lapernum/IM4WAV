{
 "cells": [
  {
   "cell_type": "code",
   "execution_count": null,
   "metadata": {},
   "outputs": [],
   "source": [
    "root_path = \"S:/CS7643Project/audiosetdl/\"\n",
    "video_path = \"S:/CS7643Project/audiosetdl/video_output/\""
   ]
  },
  {
   "cell_type": "code",
   "execution_count": null,
   "metadata": {},
   "outputs": [],
   "source": [
    "import os\n",
    "import cv2\n",
    "from moviepy.editor import VideoFileClip"
   ]
  },
  {
   "cell_type": "code",
   "execution_count": null,
   "metadata": {},
   "outputs": [],
   "source": [
    "def get_sorted_filenames(path):\n",
    "    dir_list = os.listdir(path)\n",
    "    return sorted(dir_list)"
   ]
  },
  {
   "cell_type": "code",
   "execution_count": null,
   "metadata": {},
   "outputs": [],
   "source": [
    "video_name_list = get_sorted_filenames(video_path)"
   ]
  },
  {
   "cell_type": "code",
   "execution_count": null,
   "metadata": {},
   "outputs": [],
   "source": [
    "def getFrame(filename, sec, ind):\n",
    "    vidcap = cv2.VideoCapture(video_path + filename)\n",
    "    vidcap.set(cv2.CAP_PROP_POS_MSEC,sec*1000)\n",
    "    hasFrames,image = vidcap.read()\n",
    "    if hasFrames:\n",
    "        _, im_buf_arr = cv2.imencode(\".jpg\", image)\n",
    "        # cv2.imwrite(root_path + \"dataset/image/\" + str(ind) + \"-\" + str(sec) + \".\" + os.path.splitext(filename)[0] + \".jpg\", image)     # save frame as JPG file\n",
    "        im_buf_arr.tofile(root_path + \"dataset/image/\" + str(ind) + \"-\" + str(sec) + \".\" + os.path.splitext(filename)[0] + \".jpg\")\n",
    "    else:\n",
    "        print(\"Video without enough frames.\")\n",
    "    return hasFrames"
   ]
  },
  {
   "cell_type": "code",
   "execution_count": null,
   "metadata": {},
   "outputs": [],
   "source": [
    "def getAudio(filename, ind):\n",
    "    clip = VideoFileClip(video_path + filename)\n",
    "    clip.audio.write_audiofile(root_path + \"dataset/audio/\" + str(ind) + \".\" + os.path.splitext(filename)[0] + \".wav\")"
   ]
  },
  {
   "cell_type": "code",
   "execution_count": null,
   "metadata": {},
   "outputs": [],
   "source": [
    "folder1 = root_path + \"dataset/audio/\"\n",
    "folder2 = root_path + \"dataset/image/\"\n",
    "\n",
    "def cleanFolder(folder):\n",
    "    for filename in os.listdir(folder):\n",
    "        file_path = os.path.join(folder, filename)\n",
    "        try:\n",
    "            if os.path.isfile(file_path) or os.path.islink(file_path):\n",
    "                os.unlink(file_path)\n",
    "        except Exception as e:\n",
    "            print('Failed to delete %s. Reason: %s' % (file_path, e))\n",
    "            \n",
    "cleanFolder(folder1)\n",
    "cleanFolder(folder2)"
   ]
  },
  {
   "cell_type": "code",
   "execution_count": null,
   "metadata": {},
   "outputs": [],
   "source": [
    "for ind, name in enumerate(video_name_list):\n",
    "    print(\"Accessing file: \" + name + \" with index: \" + str(ind))\n",
    "    try:\n",
    "        getAudio(name, ind + 1)\n",
    "    except:\n",
    "        continue\n",
    "    # print(\"Clipping frames.\")\n",
    "    # for sec in [1, 5, 9]:\n",
    "    #     getFrame(name, sec, ind + 1)\n",
    "    # print(\"Clipping Done.\")"
   ]
  },
  {
   "cell_type": "code",
   "execution_count": null,
   "metadata": {},
   "outputs": [],
   "source": [
    "video_name_list[187]"
   ]
  },
  {
   "cell_type": "code",
   "execution_count": null,
   "metadata": {},
   "outputs": [],
   "source": []
  }
 ],
 "metadata": {
  "kernelspec": {
   "display_name": "Python 3",
   "language": "python",
   "name": "python3"
  },
  "language_info": {
   "codemirror_mode": {
    "name": "ipython",
    "version": 3
   },
   "file_extension": ".py",
   "mimetype": "text/x-python",
   "name": "python",
   "nbconvert_exporter": "python",
   "pygments_lexer": "ipython3",
   "version": "3.8.18"
  }
 },
 "nbformat": 4,
 "nbformat_minor": 2
}
