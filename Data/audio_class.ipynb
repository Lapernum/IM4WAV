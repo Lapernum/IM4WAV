{
 "cells": [
  {
   "cell_type": "code",
   "execution_count": 1,
   "metadata": {},
   "outputs": [],
   "source": [
    "origin_path = \"S:/CS7643Project/audiosetdl/dataset/audio/\"\n",
    "dest_path = \"S:/CS7643Project/audiosetdl/dataset/audio_class/\""
   ]
  },
  {
   "cell_type": "code",
   "execution_count": 1,
   "metadata": {},
   "outputs": [],
   "source": [
    "import os\n",
    "import shutil\n",
    "from tqdm import tqdm"
   ]
  },
  {
   "cell_type": "code",
   "execution_count": 3,
   "metadata": {},
   "outputs": [],
   "source": [
    "dir_list = os.listdir(origin_path)"
   ]
  },
  {
   "cell_type": "code",
   "execution_count": null,
   "metadata": {},
   "outputs": [],
   "source": [
    "class_ind = {}\n",
    "for filename in tqdm(dir_list):\n",
    "    filename_hash = filename.split(\"#\")\n",
    "    print(filename_hash)\n",
    "\n",
    "    if len(filename_hash) > 1:\n",
    "        if len(filename_hash[1].split(\".\")) > 1:\n",
    "            continue\n",
    "        if len(filename_hash[0].split(\".\")) > 2:\n",
    "            filename_dot = filename_hash[0].split(\".\")\n",
    "            classname = filename_dot[1]\n",
    "            istrain = filename_dot[2]\n",
    "        else:\n",
    "            classname = filename_hash[1]\n",
    "            filename_dot = filename_hash[2].split(\".\")\n",
    "            istrain = filename_dot[1]\n",
    "    else:\n",
    "        filename_dot = filename_hash[0].split(\".\")\n",
    "        classname = filename_dot[1]\n",
    "        istrain = filename_dot[2]\n",
    "\n",
    "    # if len(filename_hash) == 3:\n",
    "    #     classname = filename_hash[1]\n",
    "    #     filename_dot = filename_hash[2].split(\".\")\n",
    "    #     istrain = filename_dot[1]\n",
    "    # else:\n",
    "    #     filename_dot = filename_hash[0].split(\".\")\n",
    "    #     classname = filename_dot[1]\n",
    "    #     istrain = filename_dot[2]\n",
    "    \n",
    "    if istrain != \"train\" and istrain != \"test\":\n",
    "        continue\n",
    "\n",
    "    if classname in class_ind:\n",
    "        class_ind[classname] += 1\n",
    "        curr_ind = class_ind[classname]\n",
    "    else:\n",
    "        class_ind[classname] = 0\n",
    "        curr_ind = 0\n",
    "\n",
    "    shutil.copyfile(origin_path + filename, dest_path + istrain + \"/\" + classname + str(curr_ind) + \".wav\")"
   ]
  },
  {
   "cell_type": "code",
   "execution_count": 5,
   "metadata": {},
   "outputs": [],
   "source": [
    "origin_path = \"S:/CS7643Project/audiosetdl/dataset/image/\"\n",
    "dest_path = \"S:/CS7643Project/audiosetdl/dataset/image_class/\""
   ]
  },
  {
   "cell_type": "code",
   "execution_count": 6,
   "metadata": {},
   "outputs": [],
   "source": [
    "dir_list = os.listdir(origin_path)"
   ]
  },
  {
   "cell_type": "code",
   "execution_count": 8,
   "metadata": {},
   "outputs": [
    {
     "name": "stderr",
     "output_type": "stream",
     "text": [
      "100%|██████████| 19973/19973 [00:12<00:00, 1598.78it/s]\n"
     ]
    }
   ],
   "source": [
    "class_ind = {}\n",
    "for filename in tqdm(dir_list):\n",
    "    filename_hash = filename.split(\"#\")\n",
    "    # print(filename_hash)\n",
    "\n",
    "    if len(filename_hash) > 1:\n",
    "        if len(filename_hash[1].split(\".\")) > 1:\n",
    "            continue\n",
    "        if len(filename_hash[0].split(\".\")) > 2:\n",
    "            filename_dot = filename_hash[0].split(\".\")\n",
    "            classname = filename_dot[1]\n",
    "            istrain = filename_dot[2]\n",
    "        else:\n",
    "            classname = filename_hash[1]\n",
    "            filename_dot = filename_hash[2].split(\".\")\n",
    "            istrain = filename_dot[1]\n",
    "    else:\n",
    "        filename_dot = filename_hash[0].split(\".\")\n",
    "        classname = filename_dot[1]\n",
    "        istrain = filename_dot[2]\n",
    "    \n",
    "    if istrain != \"train\" and istrain != \"test\":\n",
    "        continue\n",
    "\n",
    "    if classname in class_ind:\n",
    "        class_ind[classname] += 1\n",
    "        curr_ind = class_ind[classname]\n",
    "    else:\n",
    "        class_ind[classname] = 0\n",
    "        curr_ind = 0\n",
    "\n",
    "    shutil.copyfile(origin_path + filename, dest_path + istrain + \"/\" + classname + \"-\" + str(curr_ind) + \".jpg\")"
   ]
  },
  {
   "cell_type": "code",
   "execution_count": 46,
   "metadata": {},
   "outputs": [],
   "source": [
    "origin_path = \"S:/CS7643Project/audiosetdl/video_output/\"\n",
    "dest_path = \"S:/CS7643Project/audiosetdl/dataset/video_mp4/\""
   ]
  },
  {
   "cell_type": "code",
   "execution_count": 3,
   "metadata": {},
   "outputs": [],
   "source": [
    "def get_sorted_filenames(path):\n",
    "    dir_list = os.listdir(path)\n",
    "    return sorted(dir_list)"
   ]
  },
  {
   "cell_type": "code",
   "execution_count": 21,
   "metadata": {},
   "outputs": [
    {
     "name": "stderr",
     "output_type": "stream",
     "text": [
      "100%|██████████| 6834/6834 [6:02:55<00:00,  3.19s/it]\n"
     ]
    }
   ],
   "source": [
    "import os\n",
    "import moviepy.editor as moviepy\n",
    "import subprocess\n",
    "from pathlib import Path\n",
    "from IPython.display import clear_output\n",
    "\n",
    "def convert_to_mp4(mkv_file, filename):\n",
    "    filename2 = Path(filename).stem\n",
    "    out_name = dest_path + filename2 + \".mp4\"\n",
    "    try:\n",
    "        clip = moviepy.VideoFileClip(mkv_file)\n",
    "        clip.write_videofile(out_name)\n",
    "    except:\n",
    "        pass\n",
    "    clear_output(wait=True)\n",
    "\n",
    "dir_list = get_sorted_filenames(origin_path)\n",
    "for file in tqdm(dir_list):\n",
    "    if os.path.isfile(dest_path + Path(file).stem + \".mp4\"):\n",
    "        continue\n",
    "    if file.endswith('.mp4'):\n",
    "        shutil.copyfile(origin_path + file, dest_path + file)\n",
    "    else:\n",
    "        convert_to_mp4(origin_path + file, file)"
   ]
  },
  {
   "cell_type": "code",
   "execution_count": 47,
   "metadata": {},
   "outputs": [
    {
     "name": "stderr",
     "output_type": "stream",
     "text": [
      "\n",
      "\n",
      "\u001b[A\u001b[A                                                          \n",
      "\u001b[A                                                              \n",
      "\u001b[A\n",
      "\n",
      "\u001b[A\u001b[A                                                          \n",
      "\u001b[A                                                              \n",
      "\u001b[A"
     ]
    },
    {
     "name": "stdout",
     "output_type": "stream",
     "text": [
      "Moviepy - Building video S:/CS7643Project/audiosetdl/dataset/video_mp4/owl hooting.train.Appeau Chouette hulotte2.mp4.\n",
      "MoviePy - Writing audio in owl hooting.train.Appeau Chouette hulotte2TEMP_MPY_wvf_snd.mp3\n"
     ]
    },
    {
     "name": "stderr",
     "output_type": "stream",
     "text": [
      "                                                                  \n",
      "\n",
      "\u001b[A\u001b[A                                                          \n",
      "\u001b[A                                                              \n",
      "\u001b[A\n",
      "\n",
      "\u001b[A\u001b[A                                                          \n",
      "\u001b[A                                                              \n",
      "\u001b[A"
     ]
    },
    {
     "name": "stdout",
     "output_type": "stream",
     "text": [
      "MoviePy - Done.\n",
      "Moviepy - Writing video S:/CS7643Project/audiosetdl/dataset/video_mp4/owl hooting.train.Appeau Chouette hulotte2.mp4\n",
      "\n"
     ]
    },
    {
     "name": "stderr",
     "output_type": "stream",
     "text": [
      "                                                              \n",
      "\n",
      "\u001b[A\u001b[A                                                          \n",
      "\u001b[A                                                              \n",
      "\u001b[A\n",
      "\n",
      "\u001b[A\u001b[A                                                          \n",
      "\u001b[A                                                              \n",
      "\u001b[A"
     ]
    },
    {
     "name": "stdout",
     "output_type": "stream",
     "text": [
      "Moviepy - Done !\n",
      "Moviepy - video ready S:/CS7643Project/audiosetdl/dataset/video_mp4/owl hooting.train.Appeau Chouette hulotte2.mp4\n"
     ]
    }
   ],
   "source": [
    "convert_to_mp4(origin_path + \"owl hooting.train.Appeau Chouette hulotte.mkv\", dest_path + \"owl hooting.train.Appeau Chouette hulotte2.mp4\")"
   ]
  },
  {
   "cell_type": "code",
   "execution_count": 125,
   "metadata": {},
   "outputs": [],
   "source": [
    "videooutput_path = \"S:/CS7643Project/audiosetdl/video_output/\"\n",
    "origin_path = \"S:/CS7643Project/audiosetdl/dataset/video_mp4/\"\n",
    "dest_path = \"S:/CS7643Project/audiosetdl/dataset/video_class/\"\n",
    "audio_path = \"S:/CS7643Project/audiosetdl/dataset/audio/\""
   ]
  },
  {
   "cell_type": "code",
   "execution_count": 126,
   "metadata": {},
   "outputs": [],
   "source": [
    "dir_list = get_sorted_filenames(origin_path)\n",
    "audio_list = get_sorted_filenames(audio_path)\n",
    "video_output_list = get_sorted_filenames(videooutput_path)"
   ]
  },
  {
   "cell_type": "code",
   "execution_count": 82,
   "metadata": {},
   "outputs": [
    {
     "data": {
      "text/plain": [
       "'1913.dog bow-wow.test.ฝึกสุนัขให้กัด 2 โดย Dog & Cat Pet Center Koh Samui.wav'"
      ]
     },
     "execution_count": 82,
     "metadata": {},
     "output_type": "execute_result"
    }
   ],
   "source": [
    "audio_list[1000]"
   ]
  },
  {
   "cell_type": "code",
   "execution_count": 127,
   "metadata": {},
   "outputs": [],
   "source": [
    "for ind, aud in enumerate(audio_list):\n",
    "    audio_list[ind] = \".\".join(aud.split(\".\")[1:-1])"
   ]
  },
  {
   "cell_type": "code",
   "execution_count": 122,
   "metadata": {},
   "outputs": [
    {
     "data": {
      "text/plain": [
       "6715"
      ]
     },
     "execution_count": 122,
     "metadata": {},
     "output_type": "execute_result"
    }
   ],
   "source": [
    "len(audio_list)"
   ]
  },
  {
   "cell_type": "code",
   "execution_count": 90,
   "metadata": {},
   "outputs": [
    {
     "data": {
      "text/plain": [
       "'#alligators, crocodiles hissing#.test.Gators Roar'"
      ]
     },
     "execution_count": 90,
     "metadata": {},
     "output_type": "execute_result"
    }
   ],
   "source": [
    "audio_list[0]"
   ]
  },
  {
   "cell_type": "code",
   "execution_count": 121,
   "metadata": {},
   "outputs": [],
   "source": [
    "for vid in dir_list:\n",
    "    vid_name = Path(vid).stem\n",
    "    if vid_name not in audio_list:\n",
    "        print(vid)"
   ]
  },
  {
   "cell_type": "code",
   "execution_count": 124,
   "metadata": {},
   "outputs": [
    {
     "name": "stdout",
     "output_type": "stream",
     "text": [
      "owl hooting.train.Appeau Chouette hulotte2\n"
     ]
    }
   ],
   "source": [
    "for aud in audio_list:\n",
    "    if aud + \".mp4\" not in dir_list:\n",
    "        print(aud)"
   ]
  },
  {
   "cell_type": "code",
   "execution_count": 128,
   "metadata": {},
   "outputs": [],
   "source": [
    "new_dir_list = []\n",
    "for vid in dir_list:\n",
    "    new_dir_list.append(Path(vid).stem)"
   ]
  },
  {
   "cell_type": "code",
   "execution_count": 102,
   "metadata": {},
   "outputs": [],
   "source": [
    "new_dir_list.sort()"
   ]
  },
  {
   "cell_type": "code",
   "execution_count": 105,
   "metadata": {},
   "outputs": [],
   "source": [
    "dir_list = []\n",
    "for ind, vid in enumerate(new_dir_list):\n",
    "    dir_list.append(vid + \".mp4\")"
   ]
  },
  {
   "cell_type": "code",
   "execution_count": 129,
   "metadata": {},
   "outputs": [],
   "source": [
    "new_video_output_list = []\n",
    "for vid in video_output_list:\n",
    "    new_video_output_list.append(Path(vid).stem)"
   ]
  },
  {
   "cell_type": "code",
   "execution_count": 130,
   "metadata": {},
   "outputs": [],
   "source": [
    "dir_list = []\n",
    "for vid in new_video_output_list:\n",
    "    if vid in new_dir_list:\n",
    "        dir_list.append(vid + \".mp4\")"
   ]
  },
  {
   "cell_type": "code",
   "execution_count": 131,
   "metadata": {},
   "outputs": [
    {
     "data": {
      "text/plain": [
       "6715"
      ]
     },
     "execution_count": 131,
     "metadata": {},
     "output_type": "execute_result"
    }
   ],
   "source": [
    "len(dir_list)"
   ]
  },
  {
   "cell_type": "code",
   "execution_count": 132,
   "metadata": {},
   "outputs": [
    {
     "name": "stderr",
     "output_type": "stream",
     "text": [
      "100%|██████████| 6715/6715 [00:14<00:00, 458.09it/s]\n"
     ]
    }
   ],
   "source": [
    "# for video\n",
    "\n",
    "class_ind = {}\n",
    "for filename in tqdm(dir_list):\n",
    "    filename_hash = filename.split(\"#\")\n",
    "    # print(filename_hash)\n",
    "\n",
    "    if len(filename_hash) > 1:\n",
    "        if len(filename_hash[1].split(\".\")) > 1:\n",
    "            continue\n",
    "        if len(filename_hash[0].split(\".\")) > 2:\n",
    "            filename_dot = filename_hash[0].split(\".\")\n",
    "            classname = filename_dot[0]\n",
    "            istrain = filename_dot[1]\n",
    "        else:\n",
    "            classname = filename_hash[1]\n",
    "            filename_dot = filename_hash[2].split(\".\")\n",
    "            istrain = filename_dot[1]\n",
    "    else:\n",
    "        filename_dot = filename_hash[0].split(\".\")\n",
    "        classname = filename_dot[0]\n",
    "        istrain = filename_dot[1]\n",
    "    \n",
    "    if istrain != \"train\" and istrain != \"test\":\n",
    "        continue\n",
    "\n",
    "    if classname in class_ind:\n",
    "        class_ind[classname] += 1\n",
    "        curr_ind = class_ind[classname]\n",
    "    else:\n",
    "        class_ind[classname] = 0\n",
    "        curr_ind = 0\n",
    "\n",
    "    shutil.copyfile(origin_path + filename, dest_path + istrain + \"/\" + classname + str(curr_ind) + \".mp4\")"
   ]
  },
  {
   "cell_type": "code",
   "execution_count": null,
   "metadata": {},
   "outputs": [],
   "source": [
    "import os\n",
    "import ffmpeg\n",
    "\n",
    "def convert_to_mp4(mkv_file):\n",
    "    name, ext = os.path.splitext(mkv_file)\n",
    "    out_name = name + \".mp4\"\n",
    "    ffmpeg.input(mkv_file).output(out_name).run()\n",
    "    print(\"Finished converting {}\".format(mkv_file))"
   ]
  }
 ],
 "metadata": {
  "kernelspec": {
   "display_name": "imagetoaudio4",
   "language": "python",
   "name": "python3"
  },
  "language_info": {
   "codemirror_mode": {
    "name": "ipython",
    "version": 3
   },
   "file_extension": ".py",
   "mimetype": "text/x-python",
   "name": "python",
   "nbconvert_exporter": "python",
   "pygments_lexer": "ipython3",
   "version": "3.8.18"
  }
 },
 "nbformat": 4,
 "nbformat_minor": 2
}
